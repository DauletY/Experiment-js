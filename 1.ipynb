{
 "cells": [
  {
   "cell_type": "code",
   "execution_count": 1,
   "metadata": {},
   "source": [
    "\n",
    "\n",
    "// we create string arrays\n",
    "var words = new string[] {\n",
    "    \"one\", \"two\", \"three\", \"four\", \"five\"\n",
    "};\n",
    "\n",
    "\n",
    "// we take last index  \n",
    "Console.WriteLine($\"The last word is {words[^1]}\");\n",
    "\n",
    " //Console.WriteLine($\"{words[0..words.Length]}\");\n",
    "\n",
    " Console.WriteLine($\"{words[^2]}\");\n",
    "\n",
    "// string[] \n",
    "// Console.WriteLine($\"{words[0..^0]}\");\n",
    "// Console.WriteLine($\"{words[1..4]}\");\n",
    "\n",
    " var qucikBrownFox = words[1..4];\n",
    "Console.WriteLine(qucikBrownFox.Length);\n",
    "\n",
    "var lazyNum = words[^2..^0];\n",
    "Console.WriteLine($\"{lazyNum}\");\n",
    "\n",
    "\n",
    "\n",
    ""
   ],
   "outputs": [
    {
     "output_type": "execute_result",
     "data": {
      "text/plain": "The last word is five\r\n"
     },
     "execution_count": 1,
     "metadata": {}
    },
    {
     "output_type": "execute_result",
     "data": {
      "text/plain": "four\r\n"
     },
     "execution_count": 1,
     "metadata": {}
    },
    {
     "output_type": "execute_result",
     "data": {
      "text/plain": "3\r\n"
     },
     "execution_count": 1,
     "metadata": {}
    },
    {
     "output_type": "execute_result",
     "data": {
      "text/plain": "System.String[]\r\n"
     },
     "execution_count": 1,
     "metadata": {}
    }
   ]
  },
  {
   "cell_type": "code",
   "execution_count": 1,
   "metadata": {},
   "source": [
    "static int SortAys(int[] A , int n) {\n",
    "    int count = 0, v , j =0 ;\n",
    "    for(int i = 1 ;i <= n - 1; i++) {\n",
    "         v = A[i];\n",
    "         j = i - 1;\n",
    "         while(j > 0 && A[j] > v) {\n",
    "             count = count + 1;\n",
    "             A[j + 1] = A[j];\n",
    "             j = j - 1;\n",
    "             A[j + 1] = v;\n",
    "         }\n",
    "    }\n",
    "    return count;\n",
    "}\n",
    "\n",
    "\n",
    "Console.WriteLine(SortAys(new [] {5, 3,4,5,5,5}, 6));"
   ],
   "outputs": [
    {
     "output_type": "execute_result",
     "data": {
      "text/plain": "0\r\n"
     },
     "execution_count": 1,
     "metadata": {}
    }
   ]
  },
  {
   "cell_type": "code",
   "execution_count": 1,
   "metadata": {},
   "source": [
    "string[] milks = {\"cow milks\", \"sheep milks\", \"hourse milks\"};\n",
    "\n",
    "var allWords = milks[..];\n",
    "Console.Write(allWords);\n",
    "\n",
    "\n",
    "\n",
    ""
   ],
   "outputs": []
  },
  {
   "cell_type": "code",
   "execution_count": 1,
   "metadata": {},
   "source": [
    ""
   ],
   "outputs": []
  }
 ],
 "metadata": {
  "kernelspec": {
   "display_name": ".NET (C#)",
   "language": "C#",
   "name": ".net-csharp"
  },
  "language_info": {
   "file_extension": ".cs",
   "mimetype": "text/x-csharp",
   "name": "C#",
   "pygments_lexer": "csharp",
   "version": "8.0"
  }
 },
 "nbformat": 4,
 "nbformat_minor": 4
}